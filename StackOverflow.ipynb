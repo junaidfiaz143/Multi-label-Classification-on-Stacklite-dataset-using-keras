{
 "cells": [
  {
   "cell_type": "code",
   "execution_count": 1,
   "metadata": {},
   "outputs": [
    {
     "name": "stderr",
     "output_type": "stream",
     "text": [
      "Using TensorFlow backend.\n"
     ]
    }
   ],
   "source": [
    "from keras.models import Sequential\n",
    "from keras.layers import Dense\n",
    "from keras import optimizers\n",
    "import matplotlib.pyplot as plt\n",
    "import numpy as np\n",
    "import pandas as pd"
   ]
  },
  {
   "cell_type": "code",
   "execution_count": 2,
   "metadata": {},
   "outputs": [
    {
     "data": {
      "text/plain": [
       "(3,)"
      ]
     },
     "execution_count": 2,
     "metadata": {},
     "output_type": "execute_result"
    }
   ],
   "source": [
    "# read dataset\n",
    "df_questions = pd.read_csv(\"questions.csv\", nrows=50000, usecols =['Id', 'Score', 'AnswerCount'],encoding='latin1')\n",
    "# df_questions = pd.read_csv(\"questions.csv\", parse_dates=[\"ClosedDate\", \"CreationDate\", \"DeletionDate\"])\n",
    "df_questions = df_questions.fillna(0)\n",
    "df_questions.head(15)\n",
    "\n",
    "X = df_questions.values.astype('float')\n",
    "X[0].shape\n",
    "# len(X)"
   ]
  },
  {
   "cell_type": "code",
   "execution_count": 32,
   "metadata": {},
   "outputs": [],
   "source": [
    "# read dataset\n",
    "df_question_tags = pd.read_csv(\"question_tags.csv\", nrows=50000,encoding='latin1')\n",
    "df_question_tags = df_question_tags.fillna(0)\n",
    "df_question_tags.head(15)\n",
    "\n",
    "# y = df_question_tags.values[:]\n",
    "y = df_question_tags.values[:len(X)]"
   ]
  },
  {
   "cell_type": "code",
   "execution_count": 33,
   "metadata": {
    "collapsed": true
   },
   "outputs": [],
   "source": [
    "# model\n",
    "model = Sequential()\n",
    "model.add(Dense(6, activation='relu', input_shape=(3,)))\n",
    "model.add(Dense(2, activation='sigmoid'))"
   ]
  },
  {
   "cell_type": "code",
   "execution_count": 34,
   "metadata": {
    "collapsed": true
   },
   "outputs": [],
   "source": [
    "# sgd = optimizers.Adam(lr=0.00001, decay=1e-6)\n",
    "sgd = optimizers.SGD(lr=0.01, decay=1e-6, momentum=0.9, nesterov=True)\n",
    "\n",
    "model.compile(optimizer=sgd, loss='categorical_crossentropy', metrics=['acc'])"
   ]
  },
  {
   "cell_type": "code",
   "execution_count": 35,
   "metadata": {},
   "outputs": [
    {
     "data": {
      "text/plain": [
       "568"
      ]
     },
     "execution_count": 35,
     "metadata": {},
     "output_type": "execute_result"
    }
   ],
   "source": [
    "from sklearn.preprocessing import LabelEncoder\n",
    "encoder = LabelEncoder()\n",
    "encoder.fit(y[:,1])\n",
    "encoded_Y = encoder.transform(y[:,1])\n",
    "encoded_Y[1]"
   ]
  },
  {
   "cell_type": "code",
   "execution_count": 36,
   "metadata": {
    "collapsed": true
   },
   "outputs": [],
   "source": [
    "np_y = np.array([])\n",
    "for _, tag in enumerate(encoded_Y):\n",
    "    np_y = np.append(np_y, tag)"
   ]
  },
  {
   "cell_type": "code",
   "execution_count": 37,
   "metadata": {
    "collapsed": true
   },
   "outputs": [],
   "source": [
    "Y = np.column_stack((y[:,0], np_y)).astype('float')"
   ]
  },
  {
   "cell_type": "code",
   "execution_count": 38,
   "metadata": {},
   "outputs": [
    {
     "name": "stdout",
     "output_type": "stream",
     "text": [
      "Train on 39274 samples, validate on 9819 samples\n",
      "Epoch 1/10\n",
      "39274/39274 [==============================] - 1s 14us/step - loss: 781095.9196 - acc: 0.0366 - val_loss: 1775051.1556 - val_acc: 0.0000e+00\n",
      "Epoch 2/10\n",
      "39274/39274 [==============================] - 0s 11us/step - loss: 783528.5501 - acc: 0.0335 - val_loss: 1775051.1556 - val_acc: 0.0000e+00\n",
      "Epoch 3/10\n",
      "39274/39274 [==============================] - 0s 11us/step - loss: 783528.5477 - acc: 0.0335 - val_loss: 1775051.1556 - val_acc: 0.0000e+00\n",
      "Epoch 4/10\n",
      "39274/39274 [==============================] - 0s 12us/step - loss: 783528.5489 - acc: 0.0335 - val_loss: 1775051.1556 - val_acc: 0.0000e+00\n",
      "Epoch 5/10\n",
      "39274/39274 [==============================] - 0s 12us/step - loss: 783528.5483 - acc: 0.0335 - val_loss: 1775051.1556 - val_acc: 0.0000e+00\n",
      "Epoch 6/10\n",
      "39274/39274 [==============================] - 0s 11us/step - loss: 783528.5483 - acc: 0.0335 - val_loss: 1775051.1556 - val_acc: 0.0000e+00\n",
      "Epoch 7/10\n",
      "39274/39274 [==============================] - 0s 12us/step - loss: 783528.5506 - acc: 0.0335 - val_loss: 1775051.1556 - val_acc: 0.0000e+00\n",
      "Epoch 8/10\n",
      "39274/39274 [==============================] - 1s 14us/step - loss: 783528.5486 - acc: 0.0335 - val_loss: 1775051.1556 - val_acc: 0.0000e+00\n",
      "Epoch 9/10\n",
      "39274/39274 [==============================] - 0s 13us/step - loss: 783528.5467 - acc: 0.0335 - val_loss: 1775051.1556 - val_acc: 0.0000e+00\n",
      "Epoch 10/10\n",
      "39274/39274 [==============================] - 1s 14us/step - loss: 783528.5508 - acc: 0.0335 - val_loss: 1775051.1556 - val_acc: 0.0000e+00\n"
     ]
    }
   ],
   "source": [
    "history = model.fit(X, Y, verbose=1,\n",
    "                     epochs=10,\n",
    "                     batch_size=128,\n",
    "                     validation_split=0.2)"
   ]
  },
  {
   "cell_type": "code",
   "execution_count": 39,
   "metadata": {
    "collapsed": true
   },
   "outputs": [],
   "source": [
    "acc = history.history['acc']\n",
    "loss = history.history['loss']\n",
    "\n",
    "val_acc = history.history['val_acc']\n",
    "val_loss = history.history['val_loss']"
   ]
  },
  {
   "cell_type": "code",
   "execution_count": 40,
   "metadata": {},
   "outputs": [
    {
     "data": {
      "image/png": "[encoded data removed]",
      "text/plain": [
       "<matplotlib.figure.Figure at 0x20ecce34860>"
      ]
     },
     "metadata": {},
     "output_type": "display_data"
    }
   ],
   "source": [
    "plt.plot(range(len(acc)), acc,'b', label=\"training accuracy\", color='g')\n",
    "plt.plot(range(len(val_acc)), val_acc,'b', label=\"validation accuracy\", color='y')\n",
    "\n",
    "plt.show()"
   ]
  },
  {
   "cell_type": "code",
   "execution_count": 41,
   "metadata": {},
   "outputs": [
    {
     "data": {
      "image/png": "[encoded data removed]",
      "text/plain": [
       "<matplotlib.figure.Figure at 0x20ecce4fe10>"
      ]
     },
     "metadata": {},
     "output_type": "display_data"
    }
   ],
   "source": [
    "plt.plot(range(len(loss)), loss,'b', label=\"training loss\", color='b')\n",
    "plt.plot(range(len(val_loss)), val_loss,'b', label=\"validation loss\", color='r')\n",
    "plt.show()"
   ]
  },
  {
   "cell_type": "code",
   "execution_count": 42,
   "metadata": {},
   "outputs": [
    {
     "data": {
      "text/plain": [
       "(49093, 3)"
      ]
     },
     "execution_count": 42,
     "metadata": {},
     "output_type": "execute_result"
    }
   ],
   "source": [
    "tr = np.array([1., 1., 0.])\n",
    "# model.predict(tr)\n",
    "X.shape"
   ]
  },
  {
   "cell_type": "code",
   "execution_count": 43,
   "metadata": {},
   "outputs": [
    {
     "data": {
      "text/plain": [
       "(3,)"
      ]
     },
     "execution_count": 43,
     "metadata": {},
     "output_type": "execute_result"
    }
   ],
   "source": [
    "tr.shape"
   ]
  },
  {
   "cell_type": "code",
   "execution_count": 44,
   "metadata": {
    "collapsed": true
   },
   "outputs": [],
   "source": [
    "prediction = model.predict(X)"
   ]
  },
  {
   "cell_type": "code",
   "execution_count": 45,
   "metadata": {},
   "outputs": [
    {
     "data": {
      "text/plain": [
       "0.0"
      ]
     },
     "execution_count": 45,
     "metadata": {},
     "output_type": "execute_result"
    }
   ],
   "source": [
    "np.mean(val_acc)"
   ]
  },
  {
   "cell_type": "code",
   "execution_count": 46,
   "metadata": {},
   "outputs": [
    {
     "data": {
      "text/plain": [
       "1775051.1555657398"
      ]
     },
     "execution_count": 46,
     "metadata": {},
     "output_type": "execute_result"
    }
   ],
   "source": [
    "np.mean(val_loss)"
   ]
  },
  {
   "cell_type": "code",
   "execution_count": 47,
   "metadata": {},
   "outputs": [
    {
     "name": "stdout",
     "output_type": "stream",
     "text": [
      "[[0. 1.]]\n",
      "[[0. 1.]]\n",
      "[[0. 1.]]\n",
      "[[0. 1.]]\n",
      "[[0. 1.]]\n",
      "[[0. 1.]]\n",
      "[[0. 1.]]\n",
      "[[0. 1.]]\n",
      "[[0. 1.]]\n",
      "[[0. 1.]]\n"
     ]
    }
   ],
   "source": [
    "for i in range(10):    \n",
    "    prediction = model.predict(np.array([X[i]]))\n",
    "    print(prediction)"
   ]
  },
  {
   "cell_type": "code",
   "execution_count": null,
   "metadata": {
    "collapsed": true
   },
   "outputs": [],
   "source": []
  }
 ],
 "metadata": {
  "kernelspec": {
   "display_name": "Python 3",
   "language": "python",
   "name": "python3"
  },
  "language_info": {
   "codemirror_mode": {
    "name": "ipython",
    "version": 3
   },
   "file_extension": ".py",
   "mimetype": "text/x-python",
   "name": "python",
   "nbconvert_exporter": "python",
   "pygments_lexer": "ipython3",
   "version": "3.6.8"
  }
 },
 "nbformat": 4,
 "nbformat_minor": 2
}
