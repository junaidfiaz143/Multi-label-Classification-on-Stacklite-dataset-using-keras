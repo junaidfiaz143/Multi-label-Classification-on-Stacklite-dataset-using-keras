{
 "cells": [
  {
   "cell_type": "code",
   "execution_count": 21,
   "metadata": {},
   "outputs": [],
   "source": [
    "import pandas as pd\n",
    "from random import shuffle\n",
    "import pdb # for debugging\n",
    "\n",
    "from sklearn.preprocessing import LabelEncoder\n",
    "    \n",
    "from typing import List, Dict\n",
    "\n",
    "SCORE = 'score'\n",
    "OWNER_ID = 'owner_id'\n",
    "ANS_COUNT = 'ans_count'\n",
    "TAG_ID = 'tag_id'\n",
    "\n",
    "\n",
    "def read(file_questions, file_tags) -> List[Dict[str, int]]:\n",
    "    result = []\n",
    "    questions = pd.read_csv(file_questions, nrows=50000)\n",
    "    tags = pd.read_csv(file_tags, nrows=50000)\n",
    "    questions = questions.fillna(0)\n",
    "    tags['Tag'].replace('-', '_')\n",
    "\n",
    "#     pdb.set_trace() # for start debugging\n",
    "    \n",
    "    encoder = LabelEncoder()\n",
    "    encoder.fit(tags.iloc[:,1])\n",
    "    encoded_tags = encoder.transform(tags.iloc[:, 1])\n",
    "\n",
    "    for q, t in zip(questions.values, encoded_tags):\n",
    "        try:\n",
    "            result.append({\n",
    "                SCORE: int(q[4]),\n",
    "                OWNER_ID: int(q[5]),\n",
    "                ANS_COUNT: int(q[6]),\n",
    "                TAG_ID: t\n",
    "            })\n",
    "        except Exception as e:\n",
    "            print(e)\n",
    "            pass\n",
    "\n",
    "    return result\n",
    "\n",
    "\n",
    "# Method reduces question set to n often used tags.\n",
    "def reduce(raw, n) -> List:\n",
    "    counts = {}\n",
    "    for i in raw:\n",
    "        if i[TAG_ID] is not None:\n",
    "            counts[i[TAG_ID]] = 0\n",
    "    for i in raw:\n",
    "        counts[i[TAG_ID]] += 1\n",
    "    most = []\n",
    "    for k, v in sorted(counts.items(), key=lambda x: x[1], reverse=True):\n",
    "        for q in raw:\n",
    "            if q[TAG_ID] == k:\n",
    "                most.append(q)\n",
    "        n -= 1\n",
    "        if n == 0:\n",
    "            break\n",
    "    return most\n",
    "\n",
    "\n",
    "def pre_process(most) -> (List, List):\n",
    "    train_input = []\n",
    "    train_output = []\n",
    "    train = []\n",
    "    tags_vec = {}\n",
    "    tag_vec = 0\n",
    "    for m in most:\n",
    "        input = [m[SCORE], m[ANS_COUNT]]\n",
    "        split = [int(i) for i in str(m[OWNER_ID])]\n",
    "        for i in range(len(split), 10):\n",
    "            split.append(0)\n",
    "        for i in split:\n",
    "            input.append(i)\n",
    "        try:\n",
    "            target = tags_vec[m[TAG_ID]]\n",
    "        except:\n",
    "            tags_vec[m[TAG_ID]] = tag_vec\n",
    "            tag_vec += 1\n",
    "            target = tags_vec[m[TAG_ID]]\n",
    "        train.append([input, target])\n",
    "    shuffle(train)\n",
    "    for i in train:\n",
    "        train_input.append(i[0])\n",
    "        train_output.append(i[1])\n",
    "    return train_input, train_output\n",
    "\n",
    "\n",
    "# def export(path, input, output, n_export):\n",
    "#     with open(path, 'w') as csvfile:\n",
    "#         w = csv.writer(csvfile)\n",
    "#         for i, o in zip(input, output):\n",
    "#             if n_export == 0:\n",
    "#                 break\n",
    "#             w.writerow(i + [o])\n",
    "#             n_export -= 1\n",
    "#     pass    \n",
    "\n",
    "def _import(path, n_classes) -> (List, List):\n",
    "    questions = []\n",
    "    tags = []\n",
    "    with open(path) as tagged_questions:\n",
    "        for t in csv.reader(tagged_questions):\n",
    "            tag_id = int(t[3])\n",
    "            if tag_id < n_classes:\n",
    "                questions.append([int(t[0])] + [int(t[1])] + [int(t[2])] + [int(t[3])] + [int(t[4])]\n",
    "                                 + [int(t[5])] + [int(t[6])] + [int(t[7])] + [int(t[8])] + [int(t[9])])\n",
    "                tags.append(tag_id)\n",
    "    return questions, tags\n",
    "\n",
    "\n",
    "if __name__ == \"__main__\":\n",
    "    read_tuple = read('questions.csv', 'question_tags.csv')\n",
    "    reduced_tuple = reduce(read_tuple, 50)\n",
    "    inputs, outputs = pre_process(reduced_tuple)\n",
    "#     export('data/tagged_questions.csv', input, output, 100000)"
   ]
  },
  {
   "cell_type": "code",
   "execution_count": 19,
   "metadata": {},
   "outputs": [
    {
     "data": {
      "text/plain": [
       "30"
      ]
     },
     "execution_count": 19,
     "metadata": {},
     "output_type": "execute_result"
    }
   ],
   "source": [
    "outputs[2]"
   ]
  },
  {
   "cell_type": "code",
   "execution_count": 20,
   "metadata": {},
   "outputs": [
    {
     "data": {
      "text/plain": [
       "[2, 1, 1, 2, 7, 9, 0, 0, 0, 0, 0, 0]"
      ]
     },
     "execution_count": 20,
     "metadata": {},
     "output_type": "execute_result"
    }
   ],
   "source": [
    "inputs[2]"
   ]
  },
  {
   "cell_type": "code",
   "execution_count": null,
   "metadata": {
    "collapsed": true
   },
   "outputs": [],
   "source": []
  }
 ],
 "metadata": {
  "kernelspec": {
   "display_name": "Python 3",
   "language": "python",
   "name": "python3"
  },
  "language_info": {
   "codemirror_mode": {
    "name": "ipython",
    "version": 3
   },
   "file_extension": ".py",
   "mimetype": "text/x-python",
   "name": "python",
   "nbconvert_exporter": "python",
   "pygments_lexer": "ipython3",
   "version": "3.6.1"
  }
 },
 "nbformat": 4,
 "nbformat_minor": 2
}
